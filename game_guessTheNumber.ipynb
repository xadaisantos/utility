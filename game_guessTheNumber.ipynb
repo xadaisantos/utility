{
 "cells": [
  {
   "cell_type": "code",
   "execution_count": 24,
   "metadata": {},
   "outputs": [],
   "source": [
    "def guessTheNumber():\n",
    "    from IPython.display import clear_output\n",
    "    from numpy.random import randint\n",
    "    inicial = 0\n",
    "    final = 100\n",
    "    valor = randint(inicial, final)\n",
    "    chute = None\n",
    "\n",
    "    while True:\n",
    "        try:\n",
    "            chute = int(input(f'De {inicial} a {final}, qual o numero? '))\n",
    "        except ValueError:\n",
    "            clear_output()\n",
    "            print('\\nDigite um numero!')\n",
    "            continue\n",
    "            \n",
    "        clear_output()\n",
    "        \n",
    "        if chute > valor:\n",
    "            print('\\nÉ menos!')\n",
    "        if chute < valor:\n",
    "            print('\\nÉ mais!')\n",
    "        if chute == valor:\n",
    "            print(f'Acertou! O valor era {valor}!')\n",
    "            break"
   ]
  },
  {
   "cell_type": "code",
   "execution_count": null,
   "metadata": {},
   "outputs": [],
   "source": []
  }
 ],
 "metadata": {
  "kernelspec": {
   "display_name": "Python 3",
   "language": "python",
   "name": "python3"
  },
  "language_info": {
   "codemirror_mode": {
    "name": "ipython",
    "version": 3
   },
   "file_extension": ".py",
   "mimetype": "text/x-python",
   "name": "python",
   "nbconvert_exporter": "python",
   "pygments_lexer": "ipython3",
   "version": "3.7.0"
  }
 },
 "nbformat": 4,
 "nbformat_minor": 2
}
